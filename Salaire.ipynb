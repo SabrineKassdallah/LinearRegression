{
  "cells": [
    {
      "metadata": {},
      "cell_type": "markdown",
      "source": "# Salary Linear Regression"
    },
    {
      "metadata": {
        "trusted": true
      },
      "cell_type": "code",
      "source": "import pandas as pd\nimport os",
      "execution_count": 3,
      "outputs": []
    },
    {
      "metadata": {
        "trusted": true
      },
      "cell_type": "code",
      "source": "data = pd.read_csv(\"data/data1.txt\", header=None, names=['YearsExperience', 'Salary'])\ndata.head(10)\n",
      "execution_count": 4,
      "outputs": [
        {
          "output_type": "execute_result",
          "execution_count": 4,
          "data": {
            "text/html": "<div>\n<style scoped>\n    .dataframe tbody tr th:only-of-type {\n        vertical-align: middle;\n    }\n\n    .dataframe tbody tr th {\n        vertical-align: top;\n    }\n\n    .dataframe thead th {\n        text-align: right;\n    }\n</style>\n<table border=\"1\" class=\"dataframe\">\n  <thead>\n    <tr style=\"text-align: right;\">\n      <th></th>\n      <th>YearsExperience</th>\n      <th>Salary</th>\n    </tr>\n  </thead>\n  <tbody>\n    <tr>\n      <th>0</th>\n      <td>1.1</td>\n      <td>39343</td>\n    </tr>\n    <tr>\n      <th>1</th>\n      <td>1.3</td>\n      <td>46205</td>\n    </tr>\n    <tr>\n      <th>2</th>\n      <td>1.5</td>\n      <td>37731</td>\n    </tr>\n    <tr>\n      <th>3</th>\n      <td>2.0</td>\n      <td>43525</td>\n    </tr>\n    <tr>\n      <th>4</th>\n      <td>2.2</td>\n      <td>39895</td>\n    </tr>\n    <tr>\n      <th>5</th>\n      <td>2.9</td>\n      <td>56642</td>\n    </tr>\n    <tr>\n      <th>6</th>\n      <td>3.0</td>\n      <td>60150</td>\n    </tr>\n    <tr>\n      <th>7</th>\n      <td>3.2</td>\n      <td>54445</td>\n    </tr>\n    <tr>\n      <th>8</th>\n      <td>3.2</td>\n      <td>64445</td>\n    </tr>\n    <tr>\n      <th>9</th>\n      <td>3.7</td>\n      <td>57189</td>\n    </tr>\n  </tbody>\n</table>\n</div>",
            "text/plain": "   YearsExperience  Salary\n0              1.1   39343\n1              1.3   46205\n2              1.5   37731\n3              2.0   43525\n4              2.2   39895\n5              2.9   56642\n6              3.0   60150\n7              3.2   54445\n8              3.2   64445\n9              3.7   57189"
          },
          "metadata": {}
        }
      ]
    },
    {
      "metadata": {},
      "cell_type": "markdown",
      "source": "# Data  info "
    },
    {
      "metadata": {
        "trusted": true
      },
      "cell_type": "code",
      "source": "data.info()\ndata.describe()",
      "execution_count": 5,
      "outputs": [
        {
          "output_type": "stream",
          "text": "<class 'pandas.core.frame.DataFrame'>\nRangeIndex: 30 entries, 0 to 29\nData columns (total 2 columns):\nYearsExperience    30 non-null float64\nSalary             30 non-null int64\ndtypes: float64(1), int64(1)\nmemory usage: 560.0 bytes\n",
          "name": "stdout"
        },
        {
          "output_type": "execute_result",
          "execution_count": 5,
          "data": {
            "text/html": "<div>\n<style scoped>\n    .dataframe tbody tr th:only-of-type {\n        vertical-align: middle;\n    }\n\n    .dataframe tbody tr th {\n        vertical-align: top;\n    }\n\n    .dataframe thead th {\n        text-align: right;\n    }\n</style>\n<table border=\"1\" class=\"dataframe\">\n  <thead>\n    <tr style=\"text-align: right;\">\n      <th></th>\n      <th>YearsExperience</th>\n      <th>Salary</th>\n    </tr>\n  </thead>\n  <tbody>\n    <tr>\n      <th>count</th>\n      <td>30.000000</td>\n      <td>30.000000</td>\n    </tr>\n    <tr>\n      <th>mean</th>\n      <td>5.313333</td>\n      <td>75989.433333</td>\n    </tr>\n    <tr>\n      <th>std</th>\n      <td>2.837888</td>\n      <td>27423.991678</td>\n    </tr>\n    <tr>\n      <th>min</th>\n      <td>1.100000</td>\n      <td>37731.000000</td>\n    </tr>\n    <tr>\n      <th>25%</th>\n      <td>3.200000</td>\n      <td>56720.750000</td>\n    </tr>\n    <tr>\n      <th>50%</th>\n      <td>4.700000</td>\n      <td>65237.000000</td>\n    </tr>\n    <tr>\n      <th>75%</th>\n      <td>7.700000</td>\n      <td>100544.250000</td>\n    </tr>\n    <tr>\n      <th>max</th>\n      <td>10.500000</td>\n      <td>122391.000000</td>\n    </tr>\n  </tbody>\n</table>\n</div>",
            "text/plain": "       YearsExperience         Salary\ncount        30.000000      30.000000\nmean          5.313333   75989.433333\nstd           2.837888   27423.991678\nmin           1.100000   37731.000000\n25%           3.200000   56720.750000\n50%           4.700000   65237.000000\n75%           7.700000  100544.250000\nmax          10.500000  122391.000000"
          },
          "metadata": {}
        }
      ]
    },
    {
      "metadata": {
        "trusted": true
      },
      "cell_type": "code",
      "source": "data.isnull().sum()",
      "execution_count": 6,
      "outputs": [
        {
          "output_type": "execute_result",
          "execution_count": 6,
          "data": {
            "text/plain": "YearsExperience    0\nSalary             0\ndtype: int64"
          },
          "metadata": {}
        }
      ]
    },
    {
      "metadata": {},
      "cell_type": "markdown",
      "source": "# Data Visualization"
    },
    {
      "metadata": {
        "trusted": true
      },
      "cell_type": "code",
      "source": "import matplotlib.pyplot as plt",
      "execution_count": 7,
      "outputs": []
    },
    {
      "metadata": {
        "trusted": true
      },
      "cell_type": "code",
      "source": "plt.scatter(data[\"YearsExperience\"], data[\"Salary\"], color='red')\nplt.title('Salary VS Experience')\nplt.xlabel('Year of Experience')\nplt.ylabel('Salary')\nplt.show()",
      "execution_count": 8,
      "outputs": [
        {
          "output_type": "display_data",
          "data": {
            "image/png": "[encoded data removed]",
            "text/plain": "<Figure size 432x288 with 1 Axes>"
          },
          "metadata": {
            "needs_background": "light"
          }
        }
      ]
    },
    {
      "metadata": {
        "trusted": true
      },
      "cell_type": "code",
      "source": "corr = data.corr()\ncorr.style.background_gradient(cmap='coolwarm').set_precision(2)",
      "execution_count": 9,
      "outputs": [
        {
          "output_type": "execute_result",
          "execution_count": 9,
          "data": {
            "text/html": "<style  type=\"text/css\" >\n    #T_068ce5c2_9656_11ea_ba66_00155d6db812row0_col0 {\n            background-color:  #b40426;\n        }    #T_068ce5c2_9656_11ea_ba66_00155d6db812row0_col1 {\n            background-color:  #3b4cc0;\n        }    #T_068ce5c2_9656_11ea_ba66_00155d6db812row1_col0 {\n            background-color:  #3b4cc0;\n        }    #T_068ce5c2_9656_11ea_ba66_00155d6db812row1_col1 {\n            background-color:  #b40426;\n        }</style>  \n<table id=\"T_068ce5c2_9656_11ea_ba66_00155d6db812\" > \n<thead>    <tr> \n        <th class=\"blank level0\" ></th> \n        <th class=\"col_heading level0 col0\" >YearsExperience</th> \n        <th class=\"col_heading level0 col1\" >Salary</th> \n    </tr></thead> \n<tbody>    <tr> \n        <th id=\"T_068ce5c2_9656_11ea_ba66_00155d6db812level0_row0\" class=\"row_heading level0 row0\" >YearsExperience</th> \n        <td id=\"T_068ce5c2_9656_11ea_ba66_00155d6db812row0_col0\" class=\"data row0 col0\" >1</td> \n        <td id=\"T_068ce5c2_9656_11ea_ba66_00155d6db812row0_col1\" class=\"data row0 col1\" >0.98</td> \n    </tr>    <tr> \n        <th id=\"T_068ce5c2_9656_11ea_ba66_00155d6db812level0_row1\" class=\"row_heading level0 row1\" >Salary</th> \n        <td id=\"T_068ce5c2_9656_11ea_ba66_00155d6db812row1_col0\" class=\"data row1 col0\" >0.98</td> \n        <td id=\"T_068ce5c2_9656_11ea_ba66_00155d6db812row1_col1\" class=\"data row1 col1\" >1</td> \n    </tr></tbody> \n</table> ",
            "text/plain": "<pandas.io.formats.style.Styler at 0x7fbc6976e898>"
          },
          "metadata": {}
        }
      ]
    },
    {
      "metadata": {},
      "cell_type": "markdown",
      "source": "# Feature selection"
    },
    {
      "metadata": {
        "trusted": true
      },
      "cell_type": "code",
      "source": "data1=data[[\"YearsExperience\",\"Salary\"]]",
      "execution_count": 10,
      "outputs": []
    },
    {
      "metadata": {
        "trusted": true
      },
      "cell_type": "code",
      "source": "import numpy as np \nfrom sklearn.model_selection import train_test_split\n\nx=data1[\"YearsExperience\"].values[:,np.newaxis]\ny=data1[\"Salary\"]\nx_train, x_test, y_train, y_test=train_test_split(x,y, test_size=1/3, random_state=30)",
      "execution_count": 11,
      "outputs": []
    },
    {
      "metadata": {},
      "cell_type": "markdown",
      "source": "# Model training"
    },
    {
      "metadata": {
        "trusted": true
      },
      "cell_type": "code",
      "source": "from sklearn.linear_model import LinearRegression\nLR_model = LinearRegression()\nLR_model.fit(x_train, y_train)",
      "execution_count": 12,
      "outputs": [
        {
          "output_type": "execute_result",
          "execution_count": 12,
          "data": {
            "text/plain": "LinearRegression(copy_X=True, fit_intercept=True, n_jobs=None,\n         normalize=False)"
          },
          "metadata": {}
        }
      ]
    },
    {
      "metadata": {
        "trusted": true
      },
      "cell_type": "code",
      "source": "import matplotlib.pyplot as plt\nplt.scatter(x_train,y_train, color='red')\nplt.title(\"Linear Regression\")\nplt.xlabel(\"YearsExperience\")\nplt.ylabel(\"Salary\")\nplt.plot(x_train,LR_model.predict(x_train),color=\"black\")\nplt.show()",
      "execution_count": 17,
      "outputs": [
        {
          "output_type": "display_data",
          "data": {
            "image/png": "[encoded data removed]",
            "text/plain": "<Figure size 432x288 with 1 Axes>"
          },
          "metadata": {
            "needs_background": "light"
          }
        }
      ]
    },
    {
      "metadata": {
        "trusted": true
      },
      "cell_type": "code",
      "source": "plt.scatter(x_test,y_test, color='green')\nplt.scatter(x_test,LR_model.predict(x_test),color=\"blue\")\nplt.title(\"Linear Regression\")\nplt.xlabel(\"YearsExperience\")\nplt.ylabel(\"Salary\")\nplt.plot(x_test,LR_model.predict(x_test),color=\"black\")\nplt.show()",
      "execution_count": 13,
      "outputs": [
        {
          "output_type": "display_data",
          "data": {
            "image/png": "[encoded data removed]",
            "text/plain": "<Figure size 432x288 with 1 Axes>"
          },
          "metadata": {
            "needs_background": "light"
          }
        }
      ]
    },
    {
      "metadata": {
        "trusted": true
      },
      "cell_type": "markdown",
      "source": "# Evaluation"
    },
    {
      "metadata": {
        "trusted": true
      },
      "cell_type": "code",
      "source": "from sklearn import metrics \nLR_predicted = LR_model.predict(x_test)\nprint(LR_predicted)\nprint(\"LR MSE = \" ,metrics.mean_squared_error(y_test, LR_predicted))\nprint(\"LR R squared = \" ,metrics.r2_score(y_test, LR_predicted))",
      "execution_count": 16,
      "outputs": [
        {
          "output_type": "stream",
          "text": "[ 71791.78247514 124339.90616885 116554.99895497  62060.64845779\n 108770.09174109  34813.4732092   55248.85464564  53302.62784217\n 111689.43194629  45517.72062829]\nLR MSE =  24147808.282344572\nLR R squared =  0.9731596650617627\n",
          "name": "stdout"
        }
      ]
    },
    {
      "metadata": {
        "trusted": true
      },
      "cell_type": "code",
      "source": "",
      "execution_count": null,
      "outputs": []
    }
  ],
  "metadata": {
    "kernelspec": {
      "name": "python36",
      "display_name": "Python 3.6",
      "language": "python"
    },
    "language_info": {
      "mimetype": "text/x-python",
      "nbconvert_exporter": "python",
      "name": "python",
      "pygments_lexer": "ipython3",
      "version": "3.6.6",
      "file_extension": ".py",
      "codemirror_mode": {
        "version": 3,
        "name": "ipython"
      }
    }
  },
  "nbformat": 4,
  "nbformat_minor": 1
}